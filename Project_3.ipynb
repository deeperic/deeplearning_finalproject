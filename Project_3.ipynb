{
 "cells": [
  {
   "cell_type": "code",
   "execution_count": 1,
   "metadata": {},
   "outputs": [],
   "source": [
    "import os\n",
    "from shutil import copyfile\n",
    "\n",
    "import numpy as np\n",
    "\n",
    "import torch\n",
    "from torch.optim import lr_scheduler\n",
    "from torch.autograd import Variable\n",
    "\n",
    "import torchvision\n",
    "import torchvision.datasets as dset\n",
    "import torchvision.transforms as transforms\n",
    "import torchvision.models as models"
   ]
  },
  {
   "cell_type": "markdown",
   "metadata": {},
   "source": [
    "# 1. Data Preprocessing"
   ]
  },
  {
   "cell_type": "code",
   "execution_count": 2,
   "metadata": {},
   "outputs": [],
   "source": [
    "def listdir_fullpath(d):\n",
    "    return [os.path.join(d, f) for f in os.listdir(d)]"
   ]
  },
  {
   "cell_type": "code",
   "execution_count": 3,
   "metadata": {},
   "outputs": [],
   "source": [
    "def set_up_folders():\n",
    "    \n",
    "    os.rename('Dataset_A/data', 'data')\n",
    "    \n",
    "    for old_fname in listdir_fullpath('Dataset_A'):\n",
    "        new_fname = os.path.join('data', old_fname.split('/')[-1])\n",
    "        os.rename(old_fname, new_fname)\n",
    "\n",
    "    os.rmdir('Dataset_A')\n",
    "    \n",
    "    for folder in ['train', 'val', 'test']:\n",
    "        if folder not in os.listdir('data/'):\n",
    "            os.mkdir(os.path.join('data/', folder))\n",
    "\n",
    "            if folder in ['train', 'val']:\n",
    "                os.mkdir(os.path.join('data/', folder, 'cancer'))\n",
    "                os.mkdir(os.path.join('data/', folder, 'non_cancer'))\n",
    "\n",
    "if 'Dataset_A' in os.listdir('.'):\n",
    "    set_up_folders()"
   ]
  },
  {
   "cell_type": "code",
   "execution_count": 4,
   "metadata": {},
   "outputs": [],
   "source": [
    "label_map = {'0': 'non_cancer', '1': 'cancer'}\n",
    "added_lbl = []\n",
    "\n",
    "def set_up_files():\n",
    "    \n",
    "    all_fnames = [x for x in os.listdir('data') if x.endswith('.png')]\n",
    "    \n",
    "    for folder in ['test', 'val', 'train']:                                  \n",
    "        with open('data/{}.txt'.format(folder), 'r') as cur_file:            \n",
    "            for line in cur_file:\n",
    "                \n",
    "                cur_prefx = line.split()[0]\n",
    "                cur_fname = [x for x in all_fnames if x.startswith(cur_prefx)][0]\n",
    "                cur_opath = os.path.join('data', cur_fname)\n",
    "                \n",
    "                if folder == 'test':\n",
    "                    cur_dpath = os.path.join('data', folder, cur_fname)\n",
    "                    os.rename(cur_opath, cur_dpath)\n",
    "                    \n",
    "                elif folder in ['val', 'train']:\n",
    "                    if cur_prefx not in added_lbl:\n",
    "                        cur_label = label_map[line.split()[1]]\n",
    "                        cur_dpath = os.path.join('data', folder, cur_label, cur_fname)                    \n",
    "                        os.rename(cur_opath, cur_dpath)\n",
    "                    \n",
    "                added_lbl.append(cur_prefx)\n",
    "                    \n",
    "if ['train', 'val', 'test'] not in os.listdir('data'):\n",
    "    set_up_files()"
   ]
  }
 ],
 "metadata": {
  "kernelspec": {
   "display_name": "Python [conda env:py35]",
   "language": "python",
   "name": "conda-env-py35-py"
  },
  "language_info": {
   "codemirror_mode": {
    "name": "ipython",
    "version": 3
   },
   "file_extension": ".py",
   "mimetype": "text/x-python",
   "name": "python",
   "nbconvert_exporter": "python",
   "pygments_lexer": "ipython3",
   "version": "3.5.4"
  }
 },
 "nbformat": 4,
 "nbformat_minor": 2
}
