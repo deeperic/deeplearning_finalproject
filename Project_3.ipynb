{
 "cells": [
  {
   "cell_type": "code",
   "execution_count": 1,
   "metadata": {},
   "outputs": [],
   "source": [
    "import math\n",
    "import os\n",
    "from shutil import copyfile\n",
    "\n",
    "import numpy as np\n",
    "import matplotlib.pyplot as plt\n",
    "\n",
    "import torch\n",
    "from torch.optim import lr_scheduler\n",
    "from torch.autograd import Variable\n",
    "\n",
    "import torchvision\n",
    "import torchvision.datasets as dset\n",
    "import torchvision.transforms as transforms\n",
    "import torchvision.models as models"
   ]
  },
  {
   "cell_type": "code",
   "execution_count": 2,
   "metadata": {},
   "outputs": [],
   "source": [
    "%matplotlib inline"
   ]
  },
  {
   "cell_type": "markdown",
   "metadata": {},
   "source": [
    "# 1. Setting up file structure"
   ]
  },
  {
   "cell_type": "code",
   "execution_count": 3,
   "metadata": {},
   "outputs": [],
   "source": [
    "def listdir_fullpath(d):\n",
    "    return [os.path.join(d, f) for f in os.listdir(d)]"
   ]
  },
  {
   "cell_type": "code",
   "execution_count": 4,
   "metadata": {},
   "outputs": [],
   "source": [
    "def set_up_folders():\n",
    "    \n",
    "    os.rename('Dataset_A/data', 'data')\n",
    "    \n",
    "    for old_fname in listdir_fullpath('Dataset_A'):\n",
    "        new_fname = os.path.join('data', old_fname.split('/')[-1])\n",
    "        os.rename(old_fname, new_fname)\n",
    "\n",
    "    os.rmdir('Dataset_A')\n",
    "    \n",
    "    for folder in ['train', 'val', 'test']:\n",
    "        if folder not in os.listdir('data/'):\n",
    "            os.mkdir(os.path.join('data/', folder))\n",
    "\n",
    "            if folder in ['train', 'val']:\n",
    "                os.mkdir(os.path.join('data/', folder, 'cancer'))\n",
    "                os.mkdir(os.path.join('data/', folder, 'non_cancer'))\n",
    "\n",
    "if 'Dataset_A' in os.listdir('.'):\n",
    "    set_up_folders()"
   ]
  },
  {
   "cell_type": "code",
   "execution_count": 5,
   "metadata": {},
   "outputs": [],
   "source": [
    "label_map = {'0': 'non_cancer', '1': 'cancer'}\n",
    "added_lbl = []\n",
    "\n",
    "def set_up_files():\n",
    "    \n",
    "    all_fnames = [x for x in os.listdir('data') if x.endswith('.png')]\n",
    "    \n",
    "    for folder in ['test', 'val', 'train']:                                  \n",
    "        with open('data/{}.txt'.format(folder), 'r') as cur_file:            \n",
    "            for line in cur_file:\n",
    "                \n",
    "                cur_prefx = line.split()[0]\n",
    "                cur_fname = [x for x in all_fnames if x.startswith(cur_prefx)][0]\n",
    "                cur_opath = os.path.join('data', cur_fname)\n",
    "                \n",
    "                if folder == 'test':\n",
    "                    cur_dpath = os.path.join('data', folder, cur_fname)\n",
    "                    os.rename(cur_opath, cur_dpath)\n",
    "                    \n",
    "                elif folder in ['val', 'train']:\n",
    "                    if cur_prefx not in added_lbl:\n",
    "                        cur_label = label_map[line.split()[1]]\n",
    "                        cur_dpath = os.path.join('data', folder, cur_label, cur_fname)                    \n",
    "                        os.rename(cur_opath, cur_dpath)\n",
    "                    \n",
    "                added_lbl.append(cur_prefx)\n",
    "                    \n",
    "if 'train' not in os.listdir('data'):\n",
    "    set_up_files()"
   ]
  },
  {
   "cell_type": "markdown",
   "metadata": {},
   "source": [
    "# 2. Data loading and preprocessing"
   ]
  },
  {
   "cell_type": "code",
   "execution_count": 6,
   "metadata": {},
   "outputs": [],
   "source": [
    "classes = ('cancer', 'non_cancer')"
   ]
  },
  {
   "cell_type": "code",
   "execution_count": 7,
   "metadata": {},
   "outputs": [],
   "source": [
    "train_pre_transform = transforms.Compose(\n",
    "    [transforms.Grayscale(),\n",
    "    transforms.ToTensor()])\n",
    "\n",
    "trainset_pre = dset.ImageFolder(root=\"data/train/\",transform=train_pre_transform)\n",
    "trainloader_pre = torch.utils.data.DataLoader(trainset_pre, batch_size=1,shuffle=False, num_workers=2)"
   ]
  },
  {
   "cell_type": "markdown",
   "metadata": {},
   "source": [
    "### 2.1 Normalizing "
   ]
  },
  {
   "cell_type": "code",
   "execution_count": 8,
   "metadata": {},
   "outputs": [],
   "source": [
    "c_avg = []\n",
    "c_std = []"
   ]
  },
  {
   "cell_type": "code",
   "execution_count": 9,
   "metadata": {},
   "outputs": [],
   "source": [
    "for i, data in enumerate(trainloader_pre):\n",
    "    inputs, labels = data\n",
    "    inputs, labels = Variable(inputs), Variable(labels)\n",
    "    \n",
    "    c_avg.append(inputs[0,0,:,:].mean().data[0])\n",
    "    c_std.append(inputs[0,0,:,:].std().data[0])    "
   ]
  },
  {
   "cell_type": "code",
   "execution_count": 10,
   "metadata": {},
   "outputs": [],
   "source": [
    "img_avgs = (np.mean(c_avg))\n",
    "img_stds = (np.mean(c_std))"
   ]
  },
  {
   "cell_type": "code",
   "execution_count": 11,
   "metadata": {},
   "outputs": [],
   "source": [
    "train_transform = transforms.Compose(\n",
    "    [transforms.Grayscale(),\n",
    "     transforms.ToTensor(),\n",
    "     transforms.Normalize((img_avgs,), (img_stds,))])\n",
    "\n",
    "trainset = dset.ImageFolder(root=\"data/train/\",transform=train_transform)\n",
    "trainloader = torch.utils.data.DataLoader(trainset, batch_size=1,shuffle=False, num_workers=2)"
   ]
  },
  {
   "cell_type": "markdown",
   "metadata": {},
   "source": [
    "### 2.2 Data preview"
   ]
  },
  {
   "cell_type": "code",
   "execution_count": 12,
   "metadata": {
    "scrolled": true
   },
   "outputs": [
    {
     "name": "stdout",
     "output_type": "stream",
     "text": [
      "cancer\n"
     ]
    },
    {
     "data": {
      "image/png": "[encoded data removed]",
      "text/plain": [
       "<matplotlib.figure.Figure at 0x108f49748>"
      ]
     },
     "metadata": {},
     "output_type": "display_data"
    }
   ],
   "source": [
    "def imshow(img, img_set_avgs, img_set_stds):\n",
    "    \n",
    "    npimg = Variable(img).data[0].numpy()[0,:,:]    \n",
    "    npimg = npimg * img_set_stds + img_set_avgs\n",
    "    plt.imshow(npimg, cmap='gray')\n",
    "\n",
    "dataiter = iter(trainloader)\n",
    "image, labels = dataiter.next()\n",
    "\n",
    "imshow(image, img_avgs, img_stds)\n",
    "print(classes[labels[0]])"
   ]
  },
  {
   "cell_type": "markdown",
   "metadata": {},
   "source": [
    "# 3. Looping through patches"
   ]
  },
  {
   "cell_type": "code",
   "execution_count": 13,
   "metadata": {},
   "outputs": [],
   "source": [
    "all_images = []\n",
    "all_labels = []\n",
    "\n",
    "for i, data in enumerate(trainloader):\n",
    "    inputs, labels = data\n",
    "    inputs, labels = Variable(inputs), Variable(labels)\n",
    "    inputs = inputs.data[0].numpy()[0,:,:]\n",
    "    \n",
    "    all_images.append(inputs)\n",
    "    all_labels.append(labels)"
   ]
  },
  {
   "cell_type": "code",
   "execution_count": 14,
   "metadata": {},
   "outputs": [],
   "source": [
    "def patch(image):\n",
    "    \n",
    "    \"\"\"\n",
    "    image = list of images, where each element is an image array\n",
    "    returns: [all_images[image[image_patches]]]\n",
    "    \"\"\"\n",
    "    \n",
    "    height = 80\n",
    "    width = 80\n",
    "    \n",
    "    images=[]\n",
    "    for pic in image:\n",
    "        row =int(math.floor(pic.shape[0]/height))\n",
    "        col =int(math.floor(pic.shape[1]/width))\n",
    "        patch_based_image = np.zeros(shape=(row,col,height,width))\n",
    "        \n",
    "        picture=[]\n",
    "        for h in range(0,row):\n",
    "            for w in range(0,col):\n",
    "                current_grid = pic[h*height:(h+1)*height,w*width:(w+1)*width]\n",
    "                picture.append(current_grid)\n",
    "            \n",
    "        picture=np.array(picture)\n",
    "        \n",
    "        images.append(picture)\n",
    "        \n",
    "    images=np.array(images)\n",
    "    return images"
   ]
  },
  {
   "cell_type": "code",
   "execution_count": 15,
   "metadata": {},
   "outputs": [],
   "source": [
    "patched_images = patch(all_images)"
   ]
  }
 ],
 "metadata": {
  "kernelspec": {
   "display_name": "Python [conda env:py35]",
   "language": "python",
   "name": "conda-env-py35-py"
  },
  "language_info": {
   "codemirror_mode": {
    "name": "ipython",
    "version": 3
   },
   "file_extension": ".py",
   "mimetype": "text/x-python",
   "name": "python",
   "nbconvert_exporter": "python",
   "pygments_lexer": "ipython3",
   "version": "3.5.4"
  }
 },
 "nbformat": 4,
 "nbformat_minor": 2
}
